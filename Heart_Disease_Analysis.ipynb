{
  "nbformat": 4,
  "nbformat_minor": 0,
  "metadata": {
    "colab": {
      "private_outputs": true,
      "provenance": [],
      "authorship_tag": "ABX9TyOQEUoAkUz+fOvOa+y/GYeb",
      "include_colab_link": true
    },
    "kernelspec": {
      "name": "python3",
      "display_name": "Python 3"
    },
    "language_info": {
      "name": "python"
    }
  },
  "cells": [
    {
      "cell_type": "markdown",
      "metadata": {
        "id": "view-in-github",
        "colab_type": "text"
      },
      "source": [
        "<a href=\"https://colab.research.google.com/github/MohamedElSobkey/Heart-Disease-Analysis/blob/main/Heart_Disease_Analysis.ipynb\" target=\"_parent\"><img src=\"https://colab.research.google.com/assets/colab-badge.svg\" alt=\"Open In Colab\"/></a>"
      ]
    },
    {
      "cell_type": "code",
      "execution_count": null,
      "metadata": {
        "id": "mzo5PF5w5h3_"
      },
      "outputs": [],
      "source": [
        "# import libraries\n",
        "import numpy as np\n",
        "import pandas as pd\n",
        "import matplotlib.pyplot as plt\n",
        "import seaborn as sns"
      ]
    },
    {
      "cell_type": "code",
      "source": [
        "#Reading Data\n",
        "try:\n",
        "    HeartDiseaseData = pd.read_csv('heart_2020_cleaned.csv')\n",
        "    print(f'Data shape is: {HeartDiseaseData.shape}')\n",
        "except BaseException as err:\n",
        "    print(\"Error message is:\", err)"
      ],
      "metadata": {
        "id": "hJ4Qcg_759NV"
      },
      "execution_count": null,
      "outputs": []
    },
    {
      "cell_type": "code",
      "source": [
        "# Information from The Data\n",
        "\n",
        "print('head of data:\\n{0}\\ndtypes:\\n{1}\\ninfo:{2}\\nsum of nulls:\\n{3}'\n",
        "          .format(HeartDiseaseData.head(), HeartDiseaseData.dtypes,\n",
        "                  HeartDiseaseData.info(), HeartDiseaseData.isnull().sum()))"
      ],
      "metadata": {
        "id": "bLg1yJWF6QBu"
      },
      "execution_count": null,
      "outputs": []
    },
    {
      "cell_type": "code",
      "source": [
        "# Create DataFrame and drop rows with at least one Nan value\n",
        "    # used dropna to delete rows that contains nulls\n",
        "HeartDiseaseDataf = pd.DataFrame(HeartDiseaseData).dropna()\n",
        "# check again the size of data:\n",
        "print('new DataFrame shape is: {}'.format(HeartDiseaseDataf.shape))\n",
        "\n",
        "for column in HeartDiseaseDataf:\n",
        "    # get the unique values for every column\n",
        "    uniq_val = np.unique(HeartDiseaseDataf[column])\n",
        "    # count the unique values for every column\n",
        "    np_val = len(uniq_val)\n",
        "    if np_val < 15:\n",
        "        print('The number of values for feature {} : {} -- :{}'.format(column, np_val, uniq_val))\n",
        "    else:\n",
        "        print('The number of values for feature {} : {}'.format(column, np_val))\n",
        ""
      ],
      "metadata": {
        "id": "sHQKhlwx6U2M"
      },
      "execution_count": null,
      "outputs": []
    },
    {
      "cell_type": "code",
      "source": [
        "# NADP is: NumberOfAlcoholHeartDiseasePersons\n",
        "# NADP_not is: NumberOfNotAlcoholHeartDiseasePersons\n",
        "def AlcoholDrinking():\n",
        "\n",
        "  NADP = 0\n",
        "  NADP_not = 0\n",
        "  for Disease, Alcohol in zip(HeartDiseaseDataf['HeartDisease'], HeartDiseaseDataf['AlcoholDrinking']):\n",
        "      #     print(Disease, Alcohol)/\n",
        "      if Disease == Alcohol == 'Yes':\n",
        "          NADP += 1\n",
        "      elif Disease == Alcohol == 'No':\n",
        "          NADP_not += 1\n",
        "  NADPPeracentage = round(NADP/HeartDiseaseData.shape[0], 6)*100\n",
        "  print(\"Alcohol Drinkers percentage that have Heart Disease to the data: {} %\".format(NADPPeracentage))\n",
        "\n",
        "  print('Number of Alcohol Drinkers that has Heart Disease', NADP)\n",
        "\n",
        "  print(\"Number of Alcohol Drinkers that hasn't Heart Disease\", NADP_not)\n",
        "AlcoholDrinking()"
      ],
      "metadata": {
        "id": "-FIZxica6YIp"
      },
      "execution_count": null,
      "outputs": []
    },
    {
      "cell_type": "code",
      "source": [
        "# smoking is: NumberOfsmokingHeartDiseasePersons\n",
        "# not_smoking is: NumberOfnotsmokingHeartDiseasePersons\n",
        "smoking = 0\n",
        "not_smoking = 0\n",
        "for Disease, smoke in zip(HeartDiseaseDataf['HeartDisease'], HeartDiseaseDataf['Smoking']):\n",
        "    if Disease == smoke == 'Yes':\n",
        "        smoking += 1\n",
        "    elif Disease == smoke == 'No':\n",
        "        not_smoking += 1\n",
        "\n",
        "print('Number of smoking Drinkers that has Heart Disease', smoking)\n",
        "print('Number of Alcohol Drinkers that has Heart Disease', not_smoking)"
      ],
      "metadata": {
        "id": "8zipdOwm6dHH"
      },
      "execution_count": null,
      "outputs": []
    },
    {
      "cell_type": "code",
      "source": [
        "def smoking():\n",
        "    # smoking is: NumberOfsmokingHeartDiseasePersons\n",
        "    # not_smoking is: NumberOfnotsmokingHeartDiseasePersons\n",
        "    smoking = 0\n",
        "    not_smoking = 0\n",
        "    for Disease, smoke in zip(HeartDiseaseDataf['HeartDisease'], HeartDiseaseDataf['Smoking']):\n",
        "        #print(Disease, Alcohol)/\n",
        "        if Disease == smoke == 'Yes':\n",
        "            smoking += 1\n",
        "        elif Disease == smoke == 'No':\n",
        "            not_smoking += 1\n",
        "\n",
        "    print('Number of smoking Drinkers that has Heart Disease', smoking)\n",
        "    print('Number of Alcohol Drinkers that has Heart Disease', not_smoking)\n",
        "\n",
        "smoking()"
      ],
      "metadata": {
        "id": "HDKI0Vc66gIM"
      },
      "execution_count": null,
      "outputs": []
    },
    {
      "cell_type": "code",
      "source": [
        "male = 0\n",
        "female = 0\n",
        "for gender in HeartDiseaseDataf['Sex']:\n",
        "    if gender == 'Male':\n",
        "        male += 1\n",
        "    elif gender == 'Female':\n",
        "        female += 1\n",
        "\n",
        "print('Number of male in the DataSet', male)\n",
        "print('Number of female in the DataSet', female)"
      ],
      "metadata": {
        "id": "IIwi58zI6j7M"
      },
      "execution_count": null,
      "outputs": []
    },
    {
      "cell_type": "code",
      "source": [
        "def gender():\n",
        "    male = 0\n",
        "    female = 0\n",
        "    for Disease, gender in zip(HeartDiseaseDataf['HeartDisease'], HeartDiseaseDataf['Sex']):\n",
        "        if Disease == 'Yes' and gender == 'Male':\n",
        "            male += 1\n",
        "        elif Disease == 'No' and gender == 'Female':\n",
        "            female += 1\n",
        "\n",
        "    print('Number of male that has Heart Disease', male)\n",
        "    print('__________________________________')\n",
        "\n",
        "    print('Number of female that has Heart Disease', female)\n",
        "    print('__________________________________')\n",
        "\n",
        "gender()"
      ],
      "metadata": {
        "id": "NehsHuDH6rAP"
      },
      "execution_count": null,
      "outputs": []
    },
    {
      "cell_type": "code",
      "source": [
        "# check the count of heart desease for every AgeCategory:\n",
        "ageGroupsCount = {}\n",
        "\n",
        "for Disease, age in zip(HeartDiseaseDataf['HeartDisease'], HeartDiseaseDataf['AgeCategory']):\n",
        "    if Disease == 'Yes':\n",
        "        ageGroupsCount[age] = ageGroupsCount.get(age, 0) + 1\n",
        "\n",
        "print('count of heart desease for every AgeCategory:', sorted(ageGroupsCount.items()))\n"
      ],
      "metadata": {
        "id": "iNL1lSU-6v3S"
      },
      "execution_count": null,
      "outputs": []
    },
    {
      "cell_type": "code",
      "source": [
        "\n",
        "#list comprehensive examples\n",
        "list = [i for i in HeartDiseaseDataf['PhysicalHealth'] if i % 2 == 0]\n",
        "print(list)\n",
        "print(len(list))\n",
        "\n",
        "list = [i for i in HeartDiseaseDataf['PhysicalHealth'] if i % 2 != 0]\n",
        "print(list)\n",
        "print (len(list))\n",
        "\n",
        "list = [i for i in HeartDiseaseDataf['SleepTime'] if i >= 10]\n",
        "print(list)\n",
        "print (len(list))"
      ],
      "metadata": {
        "id": "99pCqw0c6y3R"
      },
      "execution_count": null,
      "outputs": []
    },
    {
      "cell_type": "code",
      "source": [
        "class HeartDisease:\n",
        "  def __init__(self):#initial value for all number of Kidney Disease people and skin cancer people as (count =0)\n",
        "    self.Kidney_Disease = 0\n",
        "    self.not_Kidney_Disease = 0\n",
        "    self.skin_cancer = 0\n",
        "    self.not_skin_cancer = 0\n",
        "\n",
        "  def KidneyDisease(self):#function to calc number of people have heard disease and kidney disease or  Unsatisfactory people\n",
        "        for HeartDisease, KidneyDisease in zip(HeartDiseaseDataf['HeartDisease'], HeartDiseaseDataf['KidneyDisease']):\n",
        "            if HeartDisease == KidneyDisease == 'Yes':#if person have heart disease and kidney disease increment the count of Kidney_Disease\n",
        "                self.Kidney_Disease += 1\n",
        "            elif HeartDisease == KidneyDisease == 'No':#if Unsatisfactory people increment the count of not_Kidney_Disease\n",
        "                self.not_Kidney_Disease += 1\n",
        "        print('Number of people have HeartDisease and KidneyDisease : ', self.Kidney_Disease)\n",
        "        print('Number of people have not HeartDisease and KidneyDisease : ', self.not_Kidney_Disease)\n",
        "\n",
        "  def SkinCancer(self):#function to calc number of people have heard disease and Skin cancer or  Unsatisfactory people\n",
        "        for HeartDisease, SkinCancer in zip(HeartDiseaseDataf['HeartDisease'], HeartDiseaseDataf['SkinCancer']):\n",
        "            if HeartDisease == SkinCancer == 'Yes':#if person have heart disease and SkinCancer increment the count of skin_cancer\n",
        "                self.skin_cancer += 1\n",
        "            elif HeartDisease == SkinCancer == 'No':#if Unsatisfactory people increment the count of not_skin_cancer\n",
        "                self.not_skin_cancer += 1\n",
        "\n",
        "        print('Number of people have HeartDisease and Skin Cancer : ', self.skin_cancer)\n",
        "        print('Number of people have not  HeartDisease and Skin Cancer : ', self.not_skin_cancer)\n",
        "\n",
        "heart=HeartDisease()"
      ],
      "metadata": {
        "id": "xiKAUbDj6128"
      },
      "execution_count": null,
      "outputs": []
    },
    {
      "cell_type": "code",
      "source": [
        "heart.KidneyDisease()"
      ],
      "metadata": {
        "id": "gk07l5wb66Pu"
      },
      "execution_count": null,
      "outputs": []
    },
    {
      "cell_type": "code",
      "source": [
        "heart.SkinCancer()"
      ],
      "metadata": {
        "id": "E5Q-Knha69NG"
      },
      "execution_count": null,
      "outputs": []
    },
    {
      "cell_type": "code",
      "source": [
        "#list to count number of people have Asthma\n",
        "L1 = []\n",
        "L2 = []\n",
        "for i in HeartDiseaseDataf['Asthma']:\n",
        "        if i == 'Yes':\n",
        "            L1.append(i)\n",
        "        elif i == 'No':\n",
        "            L2.append(i)\n",
        "print(\"Number of people have Asthma = \",len(L1))\n",
        "print(\"Number of people not have Asthma =\", len(L2))"
      ],
      "metadata": {
        "id": "0oD5K_3H6_mH"
      },
      "execution_count": null,
      "outputs": []
    },
    {
      "cell_type": "code",
      "source": [
        "# plots\n",
        "\n",
        "def drawPlots():\n",
        "    plt.style.use('Solarize_Light2')\n",
        "    plt.figure(figsize=(12, 10))\n",
        "    plt.title('Heart disease patients vs. non-heart disease patients in dataset')\n",
        "    sns.countplot(x='HeartDisease', data=HeartDiseaseDataf)\n",
        "    plt.show()\n",
        "\n",
        "    plt.figure(figsize=(12, 10))\n",
        "    plt.title('Smoking persons vs. non-Smoking persons dataset')\n",
        "    sns.countplot(x='Smoking', data=HeartDiseaseDataf)\n",
        "    plt.show()\n",
        "\n",
        "    plt.figure(figsize=(12, 10))\n",
        "    plt.title('Alcohol Drinking persons vs. non-AlcoholDrinking persons dataset')\n",
        "    sns.countplot(x='AlcoholDrinking', data=HeartDiseaseDataf)\n",
        "    plt.show()\n",
        "\n",
        "    plt.figure(figsize=(12, 10))\n",
        "    plt.title('Male vs. Female persons dataset')\n",
        "    sns.countplot(x='Sex', data=HeartDiseaseDataf)\n",
        "    plt.show()\n",
        "\n",
        "    plt.figure(figsize=(12, 10))\n",
        "    plt.title('Race color fo persons in dataset')\n",
        "    sns.countplot(x='Race', data=HeartDiseaseDataf)\n",
        "    plt.show()\n",
        "\n",
        "    plt.figure(figsize=(12, 10))\n",
        "    plt.title('General Health fo persons in dataset')\n",
        "    sns.countplot(x='GenHealth', data=HeartDiseaseDataf)\n",
        "    plt.show()\n",
        "\n",
        "\n",
        "    plt.figure(figsize=(12, 10))\n",
        "    plt.title('Infection of individuals in the sample with diabetes')\n",
        "    sns.countplot(x='Diabetic', data=HeartDiseaseDataf)\n",
        "    plt.show()\n",
        "drawPlots()"
      ],
      "metadata": {
        "id": "Ie8xpRb77CjS"
      },
      "execution_count": null,
      "outputs": []
    }
  ]
}